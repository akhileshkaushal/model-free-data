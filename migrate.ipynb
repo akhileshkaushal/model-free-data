{
 "cells": [
  {
   "cell_type": "markdown",
   "metadata": {},
   "source": [
    "# Migrate data from a backup to this repository\n",
    "\n",
    "Data was manually backed up from http://discovery.dartmouth.edu/model_free_data/ on 2014-04-01. Migrate this locally-stored backup to this repository. Data files are modernized."
   ]
  },
  {
   "cell_type": "code",
   "execution_count": 1,
   "metadata": {
    "collapsed": true
   },
   "outputs": [],
   "source": [
    "import os\n",
    "import shutil"
   ]
  },
  {
   "cell_type": "code",
   "execution_count": 2,
   "metadata": {
    "collapsed": true
   },
   "outputs": [],
   "source": [
    "names = [\n",
    "    'threeway',\n",
    "    'HWthreeway',\n",
    "    'fourway',\n",
    "    'HWfourway',\n",
    "    'fourwayNoLow',\n",
    "    'fiveway',\n",
    "    'HWfiveway',\n",
    "    'fivewayNoLow',\n",
    "]"
   ]
  },
  {
   "cell_type": "markdown",
   "metadata": {},
   "source": [
    "## Best datasets"
   ]
  },
  {
   "cell_type": "code",
   "execution_count": null,
   "metadata": {
    "collapsed": false
   },
   "outputs": [],
   "source": [
    "for name in names:\n",
    "    best_dir = os.path.join('data', name, 'best-datasets')\n",
    "    ! mkdir --parents {best_dir} && \\\n",
    "      tar --extract --gunzip --directory {best_dir} --file legacy/{name}Bests.tar.gz --strip-components=1 && \\\n",
    "      cd {best_dir} && \\\n",
    "      rename -force 's/.txt$/.tsv/' *.txt && \\\n",
    "      sed --in-place '1s/^/Set_Number\\t/' dataInfo.tsv && \\\n",
    "      mv dataInfo.tsv ../best-attributes.tsv"
   ]
  },
  {
   "cell_type": "markdown",
   "metadata": {},
   "source": [
    "## All datasets"
   ]
  },
  {
   "cell_type": "code",
   "execution_count": null,
   "metadata": {
    "collapsed": false
   },
   "outputs": [],
   "source": [
    "for name in names:\n",
    "    src = os.path.join('legacy', name + 'Compilation.txt')\n",
    "    dst = os.path.join('data', name, 'all-attributes.tsv')\n",
    "    shutil.copy(src, dst)\n",
    "    ! sed --in-place 's/\"//g' {dst} # Remove quotes"
   ]
  },
  {
   "cell_type": "markdown",
   "metadata": {},
   "source": [
    "### Parse the compressed tarballs"
   ]
  },
  {
   "cell_type": "code",
   "execution_count": null,
   "metadata": {
    "collapsed": false
   },
   "outputs": [],
   "source": [
    "root = os.getcwd()\n",
    "for name in names:\n",
    "    print(name)\n",
    "    path = os.path.join(root, 'legacy', 'set-{}.tar.gz'.format(name))\n",
    "    all_dir = os.path.join(root, 'data', name, 'all-datasets')\n",
    "    ! rm --recursive --force {all_dir} && \\\n",
    "      mkdir --parents {all_dir}\n",
    "    if 'NoLow' in name:\n",
    "        ! tar --extract --gunzip --directory {all_dir} --file {path} --strip-components=1\n",
    "        ! rm --recursive {all_dir}/{name}Bests\n",
    "    else:\n",
    "        ! tar --extract --gunzip --directory {all_dir} --file {path}\n",
    "    set_ids = [x for x in os.listdir(all_dir) if x.startswith('set')]\n",
    "    for set_id in set_ids:\n",
    "        set_dir = os.path.join(all_dir, set_id)\n",
    "        ! cd {set_dir} && \\\n",
    "          rename -force 's/.txt$/.tsv/' *.txt && \\\n",
    "          bzip2 tracker.tsv && \\\n",
    "          rm thaBest.tsv && \\\n",
    "          mv picker.tsv attributes.tsv && \\\n",
    "          sed --in-place 's/\"//g' attributes.tsv && \\\n",
    "          tar --create --bzip2 --file datasets.tar.bz2 evolved* --remove-files"
   ]
  }
 ],
 "metadata": {
  "kernelspec": {
   "display_name": "Python [Root]",
   "language": "python",
   "name": "Python [Root]"
  },
  "language_info": {
   "codemirror_mode": {
    "name": "ipython",
    "version": 3
   },
   "file_extension": ".py",
   "mimetype": "text/x-python",
   "name": "python",
   "nbconvert_exporter": "python",
   "pygments_lexer": "ipython3",
   "version": "3.5.2"
  }
 },
 "nbformat": 4,
 "nbformat_minor": 0
}
