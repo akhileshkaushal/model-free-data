{
 "cells": [
  {
   "cell_type": "markdown",
   "metadata": {},
   "source": [
    "# Migrate data from a backup to this repository\n",
    "\n",
    "Data was manually backed up from http://discovery.dartmouth.edu/model_free_data/ on 2014-04-01. Migrate this locally-stored backup to this repository. Data files are modernized."
   ]
  },
  {
   "cell_type": "code",
   "execution_count": 1,
   "metadata": {
    "collapsed": true
   },
   "outputs": [],
   "source": [
    "# Local data directory manually backed up from http://discovery.dartmouth.edu/model_free_data/\n",
    "backup_dir = '/home/dhimmel/Documents/past-work/epistasis/20140401_model-free-data-download'"
   ]
  },
  {
   "cell_type": "code",
   "execution_count": 2,
   "metadata": {
    "collapsed": true
   },
   "outputs": [],
   "source": [
    "names = [\n",
    "    'threeway',\n",
    "    'HWthreeway',\n",
    "    'fourway',\n",
    "    'HWfourway',\n",
    "    'fourwayNoLow',\n",
    "    'fiveway',\n",
    "    'HWfiveway',\n",
    "    'fivewayNoLow',\n",
    "]"
   ]
  },
  {
   "cell_type": "markdown",
   "metadata": {},
   "source": [
    "## Best datasets"
   ]
  },
  {
   "cell_type": "code",
   "execution_count": 3,
   "metadata": {
    "collapsed": false
   },
   "outputs": [],
   "source": [
    "for name in names:\n",
    "    ! mkdir --parents data/{name}/best-datasets && \\\n",
    "      cd data/{name}/best-datasets && \\\n",
    "      tar --extract --gunzip --file {backup_dir}/{name}Bests.tar.gz --strip-components=1 && \\\n",
    "      rename -force 's/.txt$/.tsv/' *.txt && \\\n",
    "      sed --in-place '1s/^/Set_Number\\t/' dataInfo.tsv && \\\n",
    "      mv dataInfo.tsv ../best-attributes.tsv"
   ]
  }
 ],
 "metadata": {
  "kernelspec": {
   "display_name": "Python [Root]",
   "language": "python",
   "name": "Python [Root]"
  },
  "language_info": {
   "codemirror_mode": {
    "name": "ipython",
    "version": 3
   },
   "file_extension": ".py",
   "mimetype": "text/x-python",
   "name": "python",
   "nbconvert_exporter": "python",
   "pygments_lexer": "ipython3",
   "version": "3.5.2"
  }
 },
 "nbformat": 4,
 "nbformat_minor": 0
}
